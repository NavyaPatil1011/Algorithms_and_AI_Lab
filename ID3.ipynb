{
  "nbformat": 4,
  "nbformat_minor": 0,
  "metadata": {
    "colab": {
      "provenance": []
    },
    "kernelspec": {
      "name": "python3",
      "display_name": "Python 3"
    },
    "language_info": {
      "name": "python"
    }
  },
  "cells": [
    {
      "cell_type": "code",
      "execution_count": null,
      "metadata": {
        "colab": {
          "base_uri": "https://localhost:8080/"
        },
        "id": "a-Sj4v9zLLxt",
        "outputId": "00e403c4-7fe3-4e21-92f1-cbe55cfde439"
      },
      "outputs": [
        {
          "output_type": "stream",
          "name": "stdout",
          "text": [
            "Decision Tree:\n",
            "\n",
            "{'Outlook': {'Sunny': {'Humidity': {'High': {'Temperature': {'Hot': {'Wind': {'Weak': 'No', 'Strong': 'No'}}, 'Mild': 'No'}}, 'Low': 'Yes'}}, 'Overcast': 'Yes', 'Rain': {'Wind': {'Weak': 'Yes', 'Strong': 'No'}}}}\n"
          ]
        }
      ],
      "source": [
        "import pandas as pd\n",
        "import math\n",
        "def entropy(data):\n",
        "    labels = data['PlayTennis'].value_counts(normalize=True)\n",
        "    return -sum(labels * labels.apply(lambda x: math.log2(x) if x > 0 else 0))\n",
        "def information_gain(data, attribute):\n",
        "      original_entropy = entropy(data)\n",
        "      values = data[attribute].unique()\n",
        "      weighted_entropy = 0\n",
        "\n",
        "      for value in values:\n",
        "        subset = data[data[attribute] == value]\n",
        "        weighted_entropy += (len(subset) / len(data)) * entropy(subset)\n",
        "\n",
        "\n",
        "      return original_entropy - weighted_entropy\n",
        "\n",
        "def id3(data, attributes, target_attribute):\n",
        "\n",
        "    if len(data[target_attribute].unique()) == 1:\n",
        "        return data[target_attribute].iloc[0]\n",
        "\n",
        "    if not attributes:\n",
        "        return data[target_attribute].mode()[0]\n",
        "\n",
        "    best_attribute = max(attributes, key=lambda attribute: information_gain(data, attribute))\n",
        "\n",
        "\n",
        "    tree = {best_attribute: {}}\n",
        "\n",
        "    for value in data[best_attribute].unique():\n",
        "        subset = data[data[best_attribute] == value].drop(columns=[best_attribute])\n",
        "        remaining_attributes = [attr for attr in attributes if attr != best_attribute]\n",
        "        tree[best_attribute][value] = id3(subset, remaining_attributes, target_attribute)\n",
        "\n",
        "    return tree\n",
        "\n",
        "data = {\n",
        "    'Outlook': ['Sunny', 'Sunny', 'Overcast', 'Rain', 'Rain', 'Rain', 'Overcast', 'Sunny', 'Sunny', 'Rain', 'Sunny', 'Overcast', 'Overcast', 'Rain'],\n",
        "    'Temperature': ['Hot', 'Hot', 'Hot', 'Mild', 'Mild', 'Mild', 'Mild', 'Mild', 'Hot', 'Mild', 'Mild', 'Hot', 'Mild', 'Mild'],\n",
        "    'Humidity': ['High', 'High', 'High', 'High', 'Low', 'Low', 'Low', 'High', 'High', 'Low', 'Low', 'Low', 'High', 'High'],\n",
        "    'Wind': ['Weak', 'Strong', 'Weak', 'Weak', 'Weak', 'Strong', 'Strong', 'Weak', 'Weak', 'Weak', 'Strong', 'Strong', 'Weak', 'Strong'],\n",
        "    'PlayTennis': ['No', 'No', 'Yes', 'Yes', 'Yes', 'No', 'Yes', 'No', 'Yes', 'Yes', 'Yes', 'Yes', 'Yes', 'No']\n",
        "}\n",
        "\n",
        "\n",
        "df = pd.DataFrame(data)\n",
        "\n",
        "\n",
        "attributes = ['Outlook', 'Temperature', 'Humidity', 'Wind']\n",
        "target_attribute = 'PlayTennis'\n",
        "\n",
        "\n",
        "tree = id3(df, attributes, target_attribute)\n",
        "\n",
        "print(\"Decision Tree:\\n\")\n",
        "print(tree)"
      ]
    },
    {
      "cell_type": "code",
      "source": [],
      "metadata": {
        "id": "YHVYQ6O0Lsy-"
      },
      "execution_count": null,
      "outputs": []
    }
  ]
}