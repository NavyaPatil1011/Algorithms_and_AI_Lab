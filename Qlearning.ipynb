{
  "nbformat": 4,
  "nbformat_minor": 0,
  "metadata": {
    "colab": {
      "provenance": []
    },
    "kernelspec": {
      "name": "python3",
      "display_name": "Python 3"
    },
    "language_info": {
      "name": "python"
    }
  },
  "cells": [
    {
      "cell_type": "code",
      "execution_count": null,
      "metadata": {
        "colab": {
          "base_uri": "https://localhost:8080/"
        },
        "id": "ulKkicB__gJN",
        "outputId": "a5c73732-de71-402a-c99a-1c67c16a2149"
      },
      "outputs": [
        {
          "output_type": "stream",
          "name": "stdout",
          "text": [
            "Q-table:\n",
            "[[0.73509187 0.77378094 0.6983373  0.73509189]\n",
            " [0.73509189 0.         0.42458833 0.66966488]\n",
            " [0.67040262 0.         0.         0.        ]\n",
            " [0.         0.         0.         0.        ]\n",
            " [0.77378064 0.81450625 0.         0.73509189]\n",
            " [0.         0.         0.         0.        ]\n",
            " [0.         0.         0.         0.        ]\n",
            " [0.         0.         0.         0.        ]\n",
            " [0.81450611 0.         0.857375   0.77378094]\n",
            " [0.81450406 0.81450562 0.9025     0.        ]\n",
            " [0.857375   0.95       0.         0.        ]\n",
            " [0.         0.         0.         0.        ]\n",
            " [0.         0.         0.         0.        ]\n",
            " [0.         0.65160467 0.         0.857375  ]\n",
            " [0.81450621 0.95       1.         0.90244224]\n",
            " [0.         0.         0.         0.        ]]\n"
          ]
        }
      ],
      "source": [
        "import gym\n",
        "import numpy as np\n",
        "import random\n",
        "\n",
        "# Create the FrozenLake environment\n",
        "env = gym.make('FrozenLake-v1', is_slippery=False)\n",
        "\n",
        "# Initialize the Q-table\n",
        "num_states = env.observation_space.n\n",
        "num_actions = env.action_space.n\n",
        "Q_table = np.zeros((num_states, num_actions))\n",
        "\n",
        "# Parameters\n",
        "total_episodes = 1000\n",
        "learning_rate = 0.8\n",
        "max_steps = 99\n",
        "gamma = 0.95\n",
        "epsilon = 1.0\n",
        "max_epsilon = 1.0\n",
        "min_epsilon = 0.01\n",
        "decay_rate = 0.01\n",
        "\n",
        "# The Q-learning algorithm\n",
        "for episode in range(total_episodes):\n",
        "    state = env.reset()\n",
        "    done = False\n",
        "    for step in range(max_steps):\n",
        "        # Choose an action in the current world state (s)\n",
        "        # First we randomize a number\n",
        "        exp_exp_tradeoff = random.uniform(0, 1)\n",
        "\n",
        "        # If this number > epsilon --> exploitation (taking the biggest Q value for this state)\n",
        "        if exp_exp_tradeoff > epsilon:\n",
        "            action = np.argmax(Q_table[state,:])\n",
        "        # Else doing a random choice --> exploration\n",
        "        else:\n",
        "            action = env.action_space.sample()\n",
        "\n",
        "        # Take the action (a) and observe the outcome state(s') and reward (r)\n",
        "        new_state, reward, done, info = env.step(action)\n",
        "\n",
        "        # Update Q(s,a):= Q(s,a) + lr [R(s,a) + gamma * max Q(s',a') - Q(s,a)]\n",
        "        Q_table[state, action] = Q_table[state, action] + learning_rate * (reward + gamma * np.max(Q_table[new_state, :]) - Q_table[state, action])\n",
        "\n",
        "        # Our new state is state\n",
        "        state = new_state\n",
        "\n",
        "        # If done: finish episode\n",
        "        if done:\n",
        "            break\n",
        "\n",
        "    # Reduce epsilon (because we need less and less exploration)\n",
        "    epsilon = min_epsilon + (max_epsilon - min_epsilon) * np.exp(-decay_rate * episode)\n",
        "\n",
        "# Print the Q-table\n",
        "print(\"Q-table:\")\n",
        "print(Q_table)"
      ]
    }
  ]
}